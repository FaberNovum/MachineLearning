{
 "cells": [
  {
   "cell_type": "code",
   "execution_count": 2,
   "metadata": {},
   "outputs": [],
   "source": [
    "import numpy as np\n",
    "import pandas as pd\n",
    "import torch\n",
    "import torch.nn as nn\n",
    "import torch.optim as optim"
   ]
  },
  {
   "cell_type": "code",
   "execution_count": 3,
   "metadata": {},
   "outputs": [],
   "source": [
    "dataset = pd.read_csv(r'C:\\Users\\wrigh\\Code\\MachineLearning\\data\\pima-indians-diabetes.csv') "
   ]
  },
  {
   "cell_type": "code",
   "execution_count": 4,
   "metadata": {},
   "outputs": [
    {
     "data": {
      "text/plain": [
       "(768, 9)"
      ]
     },
     "execution_count": 4,
     "metadata": {},
     "output_type": "execute_result"
    }
   ],
   "source": [
    "dataset.shape"
   ]
  },
  {
   "cell_type": "code",
   "execution_count": 5,
   "metadata": {},
   "outputs": [],
   "source": [
    "X = dataset.iloc[:,0:8]\n",
    "y = dataset.iloc[:,8]\n",
    "X = torch.tensor(X.values, dtype=torch.float32)\n",
    "y = torch.tensor(y.values, dtype=torch.float32).reshape(-1,1)"
   ]
  },
  {
   "cell_type": "code",
   "execution_count": 6,
   "metadata": {},
   "outputs": [
    {
     "data": {
      "text/plain": [
       "tensor([[  6.0000, 148.0000,  72.0000,  ...,  33.6000,   0.6270,  50.0000],\n",
       "        [  1.0000,  85.0000,  66.0000,  ...,  26.6000,   0.3510,  31.0000],\n",
       "        [  8.0000, 183.0000,  64.0000,  ...,  23.3000,   0.6720,  32.0000],\n",
       "        ...,\n",
       "        [  5.0000, 121.0000,  72.0000,  ...,  26.2000,   0.2450,  30.0000],\n",
       "        [  1.0000, 126.0000,  60.0000,  ...,  30.1000,   0.3490,  47.0000],\n",
       "        [  1.0000,  93.0000,  70.0000,  ...,  30.4000,   0.3150,  23.0000]])"
      ]
     },
     "execution_count": 6,
     "metadata": {},
     "output_type": "execute_result"
    }
   ],
   "source": [
    "X"
   ]
  },
  {
   "cell_type": "code",
   "execution_count": 8,
   "metadata": {},
   "outputs": [],
   "source": [
    "model = nn.Sequential(\n",
    "  nn.Linear(8, 12),\n",
    "  nn.ReLU(),\n",
    "  nn.Linear(12, 8),\n",
    "  nn.ReLU(),\n",
    "  nn.Linear(8, 1),\n",
    "  nn.Sigmoid()\n",
    ")"
   ]
  },
  {
   "cell_type": "code",
   "execution_count": 9,
   "metadata": {},
   "outputs": [],
   "source": [
    "loss_fn = nn.BCELoss()\n",
    "optimizer = optim.SGD(model.parameters(), lr=0.01)"
   ]
  },
  {
   "cell_type": "code",
   "execution_count": 10,
   "metadata": {},
   "outputs": [
    {
     "name": "stdout",
     "output_type": "stream",
     "text": [
      "Finished epoch 0, latest loss 0.7203934788703918\n",
      "Finished epoch 1, latest loss 0.6959432363510132\n",
      "Finished epoch 2, latest loss 0.6887298226356506\n",
      "Finished epoch 3, latest loss 0.6523038148880005\n",
      "Finished epoch 4, latest loss 0.6221578121185303\n",
      "Finished epoch 5, latest loss 0.6344298124313354\n",
      "Finished epoch 6, latest loss 0.625273585319519\n",
      "Finished epoch 7, latest loss 0.6202366352081299\n",
      "Finished epoch 8, latest loss 0.6157782673835754\n",
      "Finished epoch 9, latest loss 0.6156962513923645\n",
      "Finished epoch 10, latest loss 0.6091457009315491\n",
      "Finished epoch 11, latest loss 0.6072034239768982\n",
      "Finished epoch 12, latest loss 0.6060459613800049\n",
      "Finished epoch 13, latest loss 0.5974895358085632\n",
      "Finished epoch 14, latest loss 0.5839027166366577\n",
      "Finished epoch 15, latest loss 0.601211667060852\n",
      "Finished epoch 16, latest loss 0.5721168518066406\n",
      "Finished epoch 17, latest loss 0.58843594789505\n",
      "Finished epoch 18, latest loss 0.5768483877182007\n",
      "Finished epoch 19, latest loss 0.5790719389915466\n",
      "Finished epoch 20, latest loss 0.5813525319099426\n",
      "Finished epoch 21, latest loss 0.5798028707504272\n",
      "Finished epoch 22, latest loss 0.5675169825553894\n",
      "Finished epoch 23, latest loss 0.5658129453659058\n",
      "Finished epoch 24, latest loss 0.5660355687141418\n",
      "Finished epoch 25, latest loss 0.5740489363670349\n",
      "Finished epoch 26, latest loss 0.5640528798103333\n",
      "Finished epoch 27, latest loss 0.5616594552993774\n",
      "Finished epoch 28, latest loss 0.5579425692558289\n",
      "Finished epoch 29, latest loss 0.5394319295883179\n",
      "Finished epoch 30, latest loss 0.5432119369506836\n",
      "Finished epoch 31, latest loss 0.5380074977874756\n",
      "Finished epoch 32, latest loss 0.5376120209693909\n",
      "Finished epoch 33, latest loss 0.5453991293907166\n",
      "Finished epoch 34, latest loss 0.5318513512611389\n",
      "Finished epoch 35, latest loss 0.5445481538772583\n",
      "Finished epoch 36, latest loss 0.5236135721206665\n",
      "Finished epoch 37, latest loss 0.5380655527114868\n",
      "Finished epoch 38, latest loss 0.5382498502731323\n",
      "Finished epoch 39, latest loss 0.534355640411377\n",
      "Finished epoch 40, latest loss 0.5359495878219604\n",
      "Finished epoch 41, latest loss 0.5328271985054016\n",
      "Finished epoch 42, latest loss 0.5279242992401123\n",
      "Finished epoch 43, latest loss 0.5422075986862183\n",
      "Finished epoch 44, latest loss 0.5382496118545532\n",
      "Finished epoch 45, latest loss 0.5362337231636047\n",
      "Finished epoch 46, latest loss 0.5050780177116394\n",
      "Finished epoch 47, latest loss 0.5015794038772583\n",
      "Finished epoch 48, latest loss 0.5033621191978455\n",
      "Finished epoch 49, latest loss 0.5038876533508301\n",
      "Finished epoch 50, latest loss 0.521256148815155\n",
      "Finished epoch 51, latest loss 0.4910391867160797\n",
      "Finished epoch 52, latest loss 0.5227948427200317\n",
      "Finished epoch 53, latest loss 0.49228084087371826\n",
      "Finished epoch 54, latest loss 0.5193761587142944\n",
      "Finished epoch 55, latest loss 0.49105966091156006\n",
      "Finished epoch 56, latest loss 0.5042310953140259\n",
      "Finished epoch 57, latest loss 0.5018961429595947\n",
      "Finished epoch 58, latest loss 0.4676448702812195\n",
      "Finished epoch 59, latest loss 0.4362000524997711\n",
      "Finished epoch 60, latest loss 0.4680677056312561\n",
      "Finished epoch 61, latest loss 0.467645525932312\n",
      "Finished epoch 62, latest loss 0.4651842713356018\n",
      "Finished epoch 63, latest loss 0.4643707275390625\n",
      "Finished epoch 64, latest loss 0.4612215459346771\n",
      "Finished epoch 65, latest loss 0.4490976631641388\n",
      "Finished epoch 66, latest loss 0.4526444971561432\n",
      "Finished epoch 67, latest loss 0.4623714089393616\n",
      "Finished epoch 68, latest loss 0.46004441380500793\n",
      "Finished epoch 69, latest loss 0.46555036306381226\n",
      "Finished epoch 70, latest loss 0.45447656512260437\n",
      "Finished epoch 71, latest loss 0.45257049798965454\n",
      "Finished epoch 72, latest loss 0.4456780254840851\n",
      "Finished epoch 73, latest loss 0.4521482586860657\n",
      "Finished epoch 74, latest loss 0.44604572653770447\n",
      "Finished epoch 75, latest loss 0.44026991724967957\n",
      "Finished epoch 76, latest loss 0.4438043236732483\n",
      "Finished epoch 77, latest loss 0.4356517791748047\n",
      "Finished epoch 78, latest loss 0.4396713674068451\n",
      "Finished epoch 79, latest loss 0.4490149915218353\n",
      "Finished epoch 80, latest loss 0.4408815801143646\n",
      "Finished epoch 81, latest loss 0.45305752754211426\n",
      "Finished epoch 82, latest loss 0.4289199411869049\n",
      "Finished epoch 83, latest loss 0.44780319929122925\n",
      "Finished epoch 84, latest loss 0.434584379196167\n",
      "Finished epoch 85, latest loss 0.4350261092185974\n",
      "Finished epoch 86, latest loss 0.41864416003227234\n",
      "Finished epoch 87, latest loss 0.4326280951499939\n",
      "Finished epoch 88, latest loss 0.41550058126449585\n",
      "Finished epoch 89, latest loss 0.42921945452690125\n",
      "Finished epoch 90, latest loss 0.412716269493103\n",
      "Finished epoch 91, latest loss 0.40980789065361023\n",
      "Finished epoch 92, latest loss 0.4237329363822937\n",
      "Finished epoch 93, latest loss 0.41732257604599\n",
      "Finished epoch 94, latest loss 0.4240867793560028\n",
      "Finished epoch 95, latest loss 0.4328058958053589\n",
      "Finished epoch 96, latest loss 0.41756322979927063\n",
      "Finished epoch 97, latest loss 0.4194689393043518\n",
      "Finished epoch 98, latest loss 0.42856425046920776\n",
      "Finished epoch 99, latest loss 0.4275502562522888\n"
     ]
    }
   ],
   "source": [
    "n_epochs = 100\n",
    "batch_size = 10\n",
    "for epoch in range(n_epochs):\n",
    "    for i in range(0, len(X), batch_size):\n",
    "        Xbatch = X[i:i+batch_size]\n",
    "        y_pred = model(Xbatch)\n",
    "        ybatch = y[i:i+batch_size]\n",
    "        loss = loss_fn(y_pred, ybatch)\n",
    "        optimizer.zero_grad()\n",
    "        loss.backward()\n",
    "        optimizer.step()\n",
    "    print(f'Finished epoch {epoch}, latest loss {loss}')"
   ]
  },
  {
   "cell_type": "markdown",
   "metadata": {},
   "source": [
    "# inference"
   ]
  },
  {
   "cell_type": "code",
   "execution_count": 11,
   "metadata": {},
   "outputs": [
    {
     "name": "stdout",
     "output_type": "stream",
     "text": [
      "Accuracy 0.7109375\n"
     ]
    }
   ],
   "source": [
    "model.eval()\n",
    "with torch.no_grad(): # no_grad() saves resources by not computing gradient\n",
    "    y_pred = model(X)\n",
    "accuracy = (y_pred.round() == y).float().mean()\n",
    "print(f\"Accuracy {accuracy}\")"
   ]
  },
  {
   "cell_type": "code",
   "execution_count": null,
   "metadata": {},
   "outputs": [],
   "source": []
  }
 ],
 "metadata": {
  "kernelspec": {
   "display_name": "Python 3 (ipykernel)",
   "language": "python",
   "name": "python3"
  },
  "language_info": {
   "codemirror_mode": {
    "name": "ipython",
    "version": 3
   },
   "file_extension": ".py",
   "mimetype": "text/x-python",
   "name": "python",
   "nbconvert_exporter": "python",
   "pygments_lexer": "ipython3",
   "version": "3.7.6"
  }
 },
 "nbformat": 4,
 "nbformat_minor": 4
}
